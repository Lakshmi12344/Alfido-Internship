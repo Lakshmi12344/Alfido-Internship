{
  "nbformat": 4,
  "nbformat_minor": 0,
  "metadata": {
    "colab": {
      "provenance": [],
      "authorship_tag": "ABX9TyMWMWFBaty1Twv8R1MOtObw",
      "include_colab_link": true
    },
    "kernelspec": {
      "name": "python3",
      "display_name": "Python 3"
    },
    "language_info": {
      "name": "python"
    }
  },
  "cells": [
    {
      "cell_type": "markdown",
      "metadata": {
        "id": "view-in-github",
        "colab_type": "text"
      },
      "source": [
        "<a href=\"https://colab.research.google.com/github/Lakshmi12344/Alfido-Internship/blob/main/Task2.ipynb\" target=\"_parent\"><img src=\"https://colab.research.google.com/assets/colab-badge.svg\" alt=\"Open In Colab\"/></a>"
      ]
    },
    {
      "cell_type": "code",
      "execution_count": 1,
      "metadata": {
        "colab": {
          "base_uri": "https://localhost:8080/"
        },
        "id": "EtXDzBUobZzI",
        "outputId": "20abb2f7-50a5-46a4-9a1d-3250a8d39435"
      },
      "outputs": [
        {
          "output_type": "stream",
          "name": "stdout",
          "text": [
            "=== Number Guessing Game ===\n",
            "Try to guess the number between 1 and 100\n",
            "Enter your guess: 89\n",
            "Too high! Try again.\n",
            "Enter your guess: 70\n",
            "Too low! Try again.\n",
            "Enter your guess: 75\n",
            "Too high! Try again.\n",
            "Enter your guess: 73\n",
            "Too high! Try again.\n",
            "Enter your guess: 72\n",
            "Too high! Try again.\n",
            "Enter your guess: 71\n",
            "Congratulations! You guessed it in 6 attempts.\n"
          ]
        }
      ],
      "source": [
        "import random\n",
        "\n",
        "def guessing_game():\n",
        "    print(\"=== Number Guessing Game ===\")\n",
        "    print(\"Try to guess the number between 1 and 100\")\n",
        "\n",
        "    number = random.randint(1, 100)\n",
        "    attempts = 0\n",
        "\n",
        "    while True:\n",
        "        try:\n",
        "            guess = int(input(\"Enter your guess: \"))\n",
        "            attempts += 1\n",
        "\n",
        "            if guess < number:\n",
        "                print(\"Too low! Try again.\")\n",
        "            elif guess > number:\n",
        "                print(\"Too high! Try again.\")\n",
        "            else:\n",
        "                print(f\"Congratulations! You guessed it in {attempts} attempts.\")\n",
        "                break\n",
        "        except ValueError:\n",
        "            print(\"Please enter a valid number.\")\n",
        "\n",
        "guessing_game()\n"
      ]
    }
  ]
}